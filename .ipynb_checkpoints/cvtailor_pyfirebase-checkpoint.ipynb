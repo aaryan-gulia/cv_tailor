{
 "cells": [
  {
   "cell_type": "code",
   "execution_count": 3,
   "metadata": {},
   "outputs": [],
   "source": [
    "import numpy as np\n",
    "from random import seed\n",
    "from random import randint"
   ]
  },
  {
   "cell_type": "code",
   "execution_count": 4,
   "metadata": {},
   "outputs": [],
   "source": [
    "import pandas as pd\n",
    "import firebase_admin\n",
    "from firebase_admin import credentials, firestore"
   ]
  },
  {
   "cell_type": "code",
   "execution_count": 5,
   "metadata": {},
   "outputs": [
    {
     "data": {
      "text/plain": [
       "<firebase_admin.App at 0x7fa6b57b7df0>"
      ]
     },
     "execution_count": 5,
     "metadata": {},
     "output_type": "execute_result"
    }
   ],
   "source": [
    "import firebase_admin\n",
    "from firebase_admin import credentials\n",
    "\n",
    "cred = credentials.Certificate(\"cv-tailor-2021-firebase-adminsdk-fksao-29fb361d14.json\")\n",
    "firebase_admin.initialize_app(cred)"
   ]
  },
  {
   "cell_type": "code",
   "execution_count": 6,
   "metadata": {},
   "outputs": [],
   "source": [
    "db = firestore.client()"
   ]
  },
  {
   "cell_type": "markdown",
   "metadata": {},
   "source": [
    "### THE DICTIONARY WHICH WILL BE RECIEVED\n",
    "\n",
    "{\n",
    "name: ,\n",
    "email: ,\n",
    "Phone no: ,\n",
    "linkedin_profile: ,\n",
    "address: ,\n",
    "extra_curriculars: list({name: , organization: , description: , skills: list()}),   \n",
    "education: list({organization: , name_of_course: , qualification: , date_completed: , grade: , skills: list()}),\n",
    "experience: list({organization: , name_of_role: , date_start: , date_finish: , description: , skills: list()}),\n",
    "projects: list({name_of_project: , description: , skills: list()}),\n",
    "}"
   ]
  },
  {
   "cell_type": "code",
   "execution_count": 101,
   "metadata": {},
   "outputs": [],
   "source": [
    "form_data = { 'name':'Obinna', 'email':'Mezu', 'phone_no':'l04849494', 'linkedin_profile':'o.mezu', 'address':'78 Sir',\n",
    "'extra_curriculars': [{'name':'', 'organization':'', 'description':'', 'skills': ('communication')}],\n",
    "'education': [{'organization':'', 'name_of_course':'', 'qualification':'', 'date_completed':'', 'grade':'', 'skills': ('teamwork skills')}],\n",
    "'experience': [{'organization':'', 'name_of_role':'', 'date_start':'', 'date_finish':'', 'description':'', 'skills': ('problem solving')}],\n",
    "'projects': [{'name_of_project':'', 'description':'', 'skills': ('accounting') }]}"
   ]
  },
  {
   "cell_type": "code",
   "execution_count": 100,
   "metadata": {},
   "outputs": [],
   "source": [
    "addition = db.collection('persons').document()\n",
    "addition.set({'name': form_data['name'],'email': form_data['email'],'phone_no':form_data['phone_no'],'linkedin profile':form_data['linkedin_profile'],'address':form_data['address']})\n",
    "\n",
    "for term in form_data['extra_curriculars']:\n",
    "    setter = addition.collection('extra_curriculars').document()\n",
    "    setter.set(term)\n",
    "    \n",
    "for term in form_data['education']:\n",
    "    setter = addition.collection('education').document()\n",
    "    setter.set(term)\n",
    "\n",
    "for term in form_data['experience']:\n",
    "    setter = addition.collection('experience').document()\n",
    "    setter.set(term)\n",
    "\n",
    "for term in form_data['projects']:\n",
    "    setter = addition.collection('projects').document()\n",
    "    setter.set(term)"
   ]
  },
  {
   "cell_type": "code",
   "execution_count": 102,
   "metadata": {},
   "outputs": [],
   "source": [
    "get_data = db.collection('persons').where('email','==',form_data['email']).stream()\n",
    "\n",
    "our_dict = list()\n",
    "our_list = list()\n",
    "\n",
    "for data in get_data:\n",
    "    our_dict = data.to_dict()\n",
    "    \n",
    "get_data = db.collection('persons').document(data.id).collection('education').stream()\n",
    "for data in get_data:\n",
    "    our_list.append(data.to_dict())\n",
    "our_dict['education'] = our_list\n",
    "\n",
    "get_data = db.collection('persons').document(data.id).collection('extra_curriculars').stream()\n",
    "for data in get_data:\n",
    "    our_list.append(data.to_dict())\n",
    "our_dict['extra_curriculars'] = our_list\n",
    "\n",
    "get_data = db.collection('persons').document(data.id).collection('experience').stream()\n",
    "for data in get_data:\n",
    "    our_list.append(data.to_dict())\n",
    "our_dict['experience'] = our_list\n",
    "\n",
    "get_data = db.collection('persons').document(data.id).collection('projects').stream()\n",
    "for data in get_data:\n",
    "    our_list.append(data.to_dict())\n",
    "our_dict['projects'] = our_list"
   ]
  },
  {
   "cell_type": "code",
   "execution_count": 103,
   "metadata": {},
   "outputs": [
    {
     "name": "stdout",
     "output_type": "stream",
     "text": [
      "{'email': 'Mezu', 'name': 'Obinna', 'phone_no': 'l04849494', 'linkedin profile': 'o.mezu', 'address': '78 Sir', 'education': [{'skills': 'teamwork skills', 'date_completed': '', 'qualification': '', 'organization': '', 'name_of_course': '', 'grade': ''}], 'extra_curriculars': [{'skills': 'teamwork skills', 'date_completed': '', 'qualification': '', 'organization': '', 'name_of_course': '', 'grade': ''}], 'experience': [{'skills': 'teamwork skills', 'date_completed': '', 'qualification': '', 'organization': '', 'name_of_course': '', 'grade': ''}], 'projects': [{'skills': 'teamwork skills', 'date_completed': '', 'qualification': '', 'organization': '', 'name_of_course': '', 'grade': ''}]}\n"
     ]
    }
   ],
   "source": [
    "print(our_dict)"
   ]
  },
  {
   "cell_type": "code",
   "execution_count": 104,
   "metadata": {},
   "outputs": [],
   "source": [
    "def proper_data(data, profession):\n",
    "    '''\n",
    "    input  file\n",
    "    return python dictionary consisting of json file\n",
    "    '''\n",
    "\n",
    "    new_data = {}\n",
    "    new_data['name'] = data.get('name')\n",
    "    new_data['email'] = data.get('email')\n",
    "    new_data['phone_no'] = data.get('phone_no')\n",
    "    for skills in data.get('extra_curriculars').get('skills'):\n",
    "        if skills in profession:\n",
    "            new_data['extra_curriculars'] = data.get('extra_curriculars')\n",
    "    for skills in data.get('education').get('skills'):\n",
    "        if skills in profession:\n",
    "            new_data['education'] = data.get('education')\n",
    "    for skills in data.get('experience').get('skills'):\n",
    "        if skills in profession:\n",
    "            new_data['experience'] = data.get('experience')\n",
    "    for skills in data.get('projects').get('skills'):\n",
    "        if skills in profession:\n",
    "            new_data['projects'] = data.get('projects')"
   ]
  },
  {
   "cell_type": "code",
   "execution_count": 96,
   "metadata": {},
   "outputs": [
    {
     "ename": "AttributeError",
     "evalue": "'list' object has no attribute 'get'",
     "output_type": "error",
     "traceback": [
      "\u001b[0;31m---------------------------------------------------------------------------\u001b[0m",
      "\u001b[0;31mAttributeError\u001b[0m                            Traceback (most recent call last)",
      "\u001b[0;32m<ipython-input-96-76f196d92e71>\u001b[0m in \u001b[0;36m<module>\u001b[0;34m\u001b[0m\n\u001b[1;32m      1\u001b[0m \u001b[0msoftware_engineer\u001b[0m \u001b[0;34m=\u001b[0m \u001b[0;34m[\u001b[0m\u001b[0;34m'communication'\u001b[0m\u001b[0;34m,\u001b[0m \u001b[0;34m'teamwork skills'\u001b[0m\u001b[0;34m,\u001b[0m \u001b[0;34m'problem solving'\u001b[0m\u001b[0;34m,\u001b[0m \u001b[0;34m'information analysis and research'\u001b[0m\u001b[0;34m,\u001b[0m \u001b[0;34m'management'\u001b[0m\u001b[0;34m,\u001b[0m \u001b[0;34m'critical thinking'\u001b[0m\u001b[0;34m,\u001b[0m \u001b[0;34m'creativity'\u001b[0m\u001b[0;34m,\u001b[0m \u001b[0;34m'computer programming'\u001b[0m\u001b[0;34m,\u001b[0m \u001b[0;34m'collaboration'\u001b[0m\u001b[0;34m]\u001b[0m\u001b[0;34m\u001b[0m\u001b[0;34m\u001b[0m\u001b[0m\n\u001b[0;32m----> 2\u001b[0;31m \u001b[0mdew_dict\u001b[0m \u001b[0;34m=\u001b[0m \u001b[0mproper_data\u001b[0m\u001b[0;34m(\u001b[0m\u001b[0mour_dict\u001b[0m\u001b[0;34m,\u001b[0m\u001b[0msoftware_engineer\u001b[0m\u001b[0;34m)\u001b[0m\u001b[0;34m\u001b[0m\u001b[0;34m\u001b[0m\u001b[0m\n\u001b[0m",
      "\u001b[0;32m<ipython-input-95-31c2eafc273d>\u001b[0m in \u001b[0;36mproper_data\u001b[0;34m(data, profession)\u001b[0m\n\u001b[1;32m      9\u001b[0m     \u001b[0mnew_data\u001b[0m\u001b[0;34m[\u001b[0m\u001b[0;34m'email'\u001b[0m\u001b[0;34m]\u001b[0m \u001b[0;34m=\u001b[0m \u001b[0mdata\u001b[0m\u001b[0;34m.\u001b[0m\u001b[0mget\u001b[0m\u001b[0;34m(\u001b[0m\u001b[0;34m'email'\u001b[0m\u001b[0;34m)\u001b[0m\u001b[0;34m\u001b[0m\u001b[0;34m\u001b[0m\u001b[0m\n\u001b[1;32m     10\u001b[0m     \u001b[0mnew_data\u001b[0m\u001b[0;34m[\u001b[0m\u001b[0;34m'phone_no'\u001b[0m\u001b[0;34m]\u001b[0m \u001b[0;34m=\u001b[0m \u001b[0mdata\u001b[0m\u001b[0;34m.\u001b[0m\u001b[0mget\u001b[0m\u001b[0;34m(\u001b[0m\u001b[0;34m'phone_no'\u001b[0m\u001b[0;34m)\u001b[0m\u001b[0;34m\u001b[0m\u001b[0;34m\u001b[0m\u001b[0m\n\u001b[0;32m---> 11\u001b[0;31m     \u001b[0;32mfor\u001b[0m \u001b[0mskills\u001b[0m \u001b[0;32min\u001b[0m \u001b[0mdata\u001b[0m\u001b[0;34m.\u001b[0m\u001b[0mget\u001b[0m\u001b[0;34m(\u001b[0m\u001b[0;34m'extra_curriculars'\u001b[0m\u001b[0;34m)\u001b[0m\u001b[0;34m.\u001b[0m\u001b[0mget\u001b[0m\u001b[0;34m(\u001b[0m\u001b[0;34m'skills'\u001b[0m\u001b[0;34m)\u001b[0m\u001b[0;34m:\u001b[0m\u001b[0;34m\u001b[0m\u001b[0;34m\u001b[0m\u001b[0m\n\u001b[0m\u001b[1;32m     12\u001b[0m         \u001b[0;32mif\u001b[0m \u001b[0mskills\u001b[0m \u001b[0;32min\u001b[0m \u001b[0mprofession\u001b[0m\u001b[0;34m:\u001b[0m\u001b[0;34m\u001b[0m\u001b[0;34m\u001b[0m\u001b[0m\n\u001b[1;32m     13\u001b[0m             \u001b[0mnew_data\u001b[0m\u001b[0;34m[\u001b[0m\u001b[0;34m'extra_curriculars'\u001b[0m\u001b[0;34m]\u001b[0m \u001b[0;34m=\u001b[0m \u001b[0mdata\u001b[0m\u001b[0;34m.\u001b[0m\u001b[0mget\u001b[0m\u001b[0;34m(\u001b[0m\u001b[0;34m'extra_curriculars'\u001b[0m\u001b[0;34m)\u001b[0m\u001b[0;34m\u001b[0m\u001b[0;34m\u001b[0m\u001b[0m\n",
      "\u001b[0;31mAttributeError\u001b[0m: 'list' object has no attribute 'get'"
     ]
    }
   ],
   "source": [
    "software_engineer = ['communication', 'teamwork skills', 'problem solving', 'information analysis and research', 'management', 'critical thinking', 'creativity', 'computer programming', 'collaboration']\n",
    "dew_dict = proper_data(our_dict,software_engineer)"
   ]
  },
  {
   "cell_type": "code",
   "execution_count": null,
   "metadata": {},
   "outputs": [],
   "source": []
  }
 ],
 "metadata": {
  "kernelspec": {
   "display_name": "Python 3",
   "language": "python",
   "name": "python3"
  },
  "language_info": {
   "codemirror_mode": {
    "name": "ipython",
    "version": 3
   },
   "file_extension": ".py",
   "mimetype": "text/x-python",
   "name": "python",
   "nbconvert_exporter": "python",
   "pygments_lexer": "ipython3",
   "version": "3.8.3"
  }
 },
 "nbformat": 4,
 "nbformat_minor": 4
}
