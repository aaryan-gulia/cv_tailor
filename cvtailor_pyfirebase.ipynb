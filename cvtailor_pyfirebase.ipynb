{
 "cells": [
  {
   "cell_type": "code",
   "execution_count": 3,
   "metadata": {},
   "outputs": [],
   "source": [
    "import numpy as np\n",
    "from random import seed\n",
    "from random import randint"
   ]
  },
  {
   "cell_type": "code",
   "execution_count": 4,
   "metadata": {},
   "outputs": [],
   "source": [
    "import pandas as pd\n",
    "import firebase_admin\n",
    "from firebase_admin import credentials, firestore"
   ]
  },
  {
   "cell_type": "code",
   "execution_count": 5,
   "metadata": {},
   "outputs": [
    {
     "data": {
      "text/plain": [
       "<firebase_admin.App at 0x7fa6b57b7df0>"
      ]
     },
     "execution_count": 5,
     "metadata": {},
     "output_type": "execute_result"
    }
   ],
   "source": [
    "import firebase_admin\n",
    "from firebase_admin import credentials\n",
    "\n",
    "cred = credentials.Certificate(\"cv-tailor-2021-firebase-adminsdk-fksao-29fb361d14.json\")\n",
    "firebase_admin.initialize_app(cred)"
   ]
  },
  {
   "cell_type": "code",
   "execution_count": 6,
   "metadata": {},
   "outputs": [],
   "source": [
    "db = firestore.client()"
   ]
  },
  {
   "cell_type": "markdown",
   "metadata": {},
   "source": [
    "### THE DICTIONARY WHICH WILL BE RECIEVED\n",
    "\n",
    "{\n",
    "name: ,\n",
    "email: ,\n",
    "Phone no: ,\n",
    "linkedin_profile: ,\n",
    "address: ,\n",
    "extra_curriculars: list({name: , organization: , description: , skills: list()}),   \n",
    "education: list({organization: , name_of_course: , qualification: , date_completed: , grade: , skills: list()}),\n",
    "experience: list({organization: , name_of_role: , date_start: , date_finish: , description: , skills: list()}),\n",
    "projects: list({name_of_project: , description: , skills: list()}),\n",
    "}"
   ]
  },
  {
   "cell_type": "code",
   "execution_count": 166,
   "metadata": {},
   "outputs": [],
   "source": [
    "form_data = { 'name':'Aaryan Gulia', 'email':'aaryan.gulia@gmail.com', 'phone_no':'+974 55994789', 'linkedin_profile':'https://www.linkedin.com/in/aaryan-gulia/', 'address':'Doha, Qatar',\n",
    "'extra_curriculars': [{'name':'Guitar', 'organization':'At Home', 'description':'I love it', 'skills': ['creativity']}],\n",
    "'education': [{'organization':'University College London', 'name_of_course':'Theoretical Physics', 'qualification':'MSci', 'date_completed':'2024', 'grade':'1st class', 'skills': ['teamwork skills','critical thinking']}],\n",
    "'experience': [{'organization':'PPLPWR', 'name_of_role':'Project Lead', 'date_start':'2020', 'date_finish':'', 'description':'I love it', 'skills': ['problem solving','teamwork skills','organization','leaderships skills']}],\n",
    "'projects': [{'name_of_project':'CVTailor', 'description':'Kidding me!', 'skills': ['computer programming'] }]}"
   ]
  },
  {
   "cell_type": "code",
   "execution_count": 167,
   "metadata": {},
   "outputs": [],
   "source": [
    "addition = db.collection('persons').document()\n",
    "addition.set({'name': form_data['name'],'email': form_data['email'],'phone_no':form_data['phone_no'],'linkedin profile':form_data['linkedin_profile'],'address':form_data['address']})\n",
    "\n",
    "for term in form_data['extra_curriculars']:\n",
    "    setter = addition.collection('extra_curriculars').document()\n",
    "    setter.set(term)\n",
    "    \n",
    "for term in form_data['education']:\n",
    "    setter = addition.collection('education').document()\n",
    "    setter.set(term)\n",
    "\n",
    "for term in form_data['experience']:\n",
    "    setter = addition.collection('experience').document()\n",
    "    setter.set(term)\n",
    "\n",
    "for term in form_data['projects']:\n",
    "    setter = addition.collection('projects').document()\n",
    "    setter.set(term)"
   ]
  },
  {
   "cell_type": "code",
   "execution_count": 174,
   "metadata": {},
   "outputs": [],
   "source": [
    "get_data = db.collection('persons').where('email','==',form_data['email']).stream()\n",
    "\n",
    "our_dict = list()\n",
    "our_list = list()\n",
    "\n",
    "for data in get_data:\n",
    "    our_dict = data.to_dict()\n",
    "    data_id = data.id\n",
    "    \n",
    "get_data = db.collection('persons').document(data_id).collection('education').stream()\n",
    "for data in get_data:\n",
    "    our_list.append(data.to_dict())\n",
    "our_dict['education'] = our_list\n",
    "our_list = list()\n",
    "\n",
    "get_data = db.collection('persons').document(data_id).collection('extra_curriculars').stream()\n",
    "for data in get_data:\n",
    "    our_list.append(data.to_dict())\n",
    "our_dict['extra_curriculars'] = our_list\n",
    "our_list = list()\n",
    "\n",
    "get_data = db.collection('persons').document(data_id).collection('experience').stream()\n",
    "for data in get_data:\n",
    "    our_list.append(data.to_dict())\n",
    "our_dict['experience'] = our_list\n",
    "our_list = list()\n",
    "\n",
    "get_data = db.collection('persons').document(data_id).collection('projects').stream()\n",
    "for data in get_data:\n",
    "    our_list.append(data.to_dict())\n",
    "our_dict['projects'] = our_list\n",
    "our_list = list()"
   ]
  },
  {
   "cell_type": "code",
   "execution_count": 175,
   "metadata": {},
   "outputs": [
    {
     "name": "stdout",
     "output_type": "stream",
     "text": [
      "{'phone_no': '+974 55994789', 'email': 'aaryan.gulia@gmail.com', 'name': 'Aaryan Gulia', 'linkedin profile': 'https://www.linkedin.com/in/aaryan-gulia/', 'address': 'Doha, Qatar', 'education': [{'grade': '1st class', 'qualification': 'MSci', 'date_completed': '2024', 'skills': ['teamwork skills', 'critical thinking'], 'name_of_course': 'Theoretical Physics', 'organization': 'University College London'}], 'extra_curriculars': [{'organization': 'At Home', 'skills': ['creativity'], 'description': 'I love it', 'name': 'Guitar'}], 'experience': [{'date_finish': '', 'skills': ['problem solving', 'teamwork skills', 'organization', 'leaderships skills'], 'description': 'I love it', 'organization': 'PPLPWR', 'date_start': '2020', 'name_of_role': 'Project Lead'}], 'projects': [{'description': 'Kidding me!', 'skills': ['computer programming'], 'name_of_project': 'CVTailor'}]}\n"
     ]
    }
   ],
   "source": [
    "print(our_dict)"
   ]
  },
  {
   "cell_type": "code",
   "execution_count": 172,
   "metadata": {},
   "outputs": [],
   "source": [
    "def proper_data(data, profession):\n",
    "    '''\n",
    "    input  file\n",
    "    return python dictionary consisting of json file\n",
    "    '''\n",
    "    \n",
    "    get_skills = db.collection('Careers').where('name','==',profession).stream()\n",
    "    \n",
    "    for term in get_skills:\n",
    "        my_list = []\n",
    "        get_pro_skills = db.collection('Careers').document(term.id).collection('skills').stream()\n",
    "        for pro_skills in get_pro_skills:\n",
    "            my_list.append(pro_skills.to_dict()['name'])\n",
    "            \n",
    "    \n",
    "    new_data = {}\n",
    "    new_data['name'] = data.get('name')\n",
    "    new_data['email'] = data.get('email')\n",
    "    new_data['phone_no'] = data.get('phone_no')\n",
    "    new_data['extra_curriculars'] = list()\n",
    "    new_data['experience'] = list()\n",
    "    new_data['projects'] = list()\n",
    "    new_data['education'] = list()\n",
    "    \n",
    "    for term in new_data['extra_curriculars']:\n",
    "        for skill in term['skills']:\n",
    "            if skill in my_list:\n",
    "                new_data['extra_curriculars'].append(term)\n",
    "                break\n",
    "                \n",
    "    for term in data['experience']:\n",
    "        for skill in term['skills']:\n",
    "            if skill in my_list:\n",
    "                new_data['experience'].append(term)\n",
    "                break\n",
    "                \n",
    "    for term in data['education']:\n",
    "        for skill in term['skills']:\n",
    "            if skill in my_list:\n",
    "                new_data['education'].append(term)\n",
    "                break\n",
    "                \n",
    "    for term in data['projects']:\n",
    "        for skill in term['skills']:\n",
    "            if skill in my_list:\n",
    "                new_data['projects'].append(term)\n",
    "                break\n",
    "    \n",
    "    return new_data"
   ]
  },
  {
   "cell_type": "code",
   "execution_count": 176,
   "metadata": {},
   "outputs": [
    {
     "name": "stdout",
     "output_type": "stream",
     "text": [
      "{'name': 'Aaryan Gulia', 'email': 'aaryan.gulia@gmail.com', 'phone_no': '+974 55994789', 'extra_curriculars': [], 'experience': [{'date_finish': '', 'skills': ['problem solving', 'teamwork skills', 'organization', 'leaderships skills'], 'description': 'I love it', 'organization': 'PPLPWR', 'date_start': '2020', 'name_of_role': 'Project Lead'}], 'projects': [{'description': 'Kidding me!', 'skills': ['computer programming'], 'name_of_project': 'CVTailor'}], 'education': [{'grade': '1st class', 'qualification': 'MSci', 'date_completed': '2024', 'skills': ['teamwork skills', 'critical thinking'], 'name_of_course': 'Theoretical Physics', 'organization': 'University College London'}]}\n"
     ]
    }
   ],
   "source": [
    "new_dict = proper_data(our_dict,'software engineer')\n",
    "print(new_dict)"
   ]
  },
  {
   "cell_type": "code",
   "execution_count": null,
   "metadata": {},
   "outputs": [],
   "source": []
  }
 ],
 "metadata": {
  "kernelspec": {
   "display_name": "Python 3",
   "language": "python",
   "name": "python3"
  },
  "language_info": {
   "codemirror_mode": {
    "name": "ipython",
    "version": 3
   },
   "file_extension": ".py",
   "mimetype": "text/x-python",
   "name": "python",
   "nbconvert_exporter": "python",
   "pygments_lexer": "ipython3",
   "version": "3.8.3"
  }
 },
 "nbformat": 4,
 "nbformat_minor": 4
}
